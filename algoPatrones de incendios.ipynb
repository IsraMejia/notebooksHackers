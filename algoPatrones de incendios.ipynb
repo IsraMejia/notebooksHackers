{
 "cells": [
  {
   "cell_type": "code",
   "execution_count": 35,
   "metadata": {},
   "outputs": [
    {
     "name": "stdout",
     "output_type": "stream",
     "text": [
      "\t's1': [[1, 1], 103] ,\n",
      "\t's2': [[1, 2], 56] ,\n",
      "\t's3': [[1, 3], 113] ,\n",
      "\t's4': [[1, 4], 47] ,\n",
      "\t's5': [[1, 5], 47] ,\n",
      "\t's6': [[1, 6], 93] ,\n",
      "\t's7': [[2, 1], 65] ,\n",
      "\t's8': [[2, 2], 77] ,\n",
      "\t's9': [[2, 3], 55] ,\n",
      "\t's10': [[2, 4], 68] ,\n",
      "\t's11': [[2, 5], 93] ,\n",
      "\t's12': [[2, 6], 103] ,\n",
      "\t's13': [[3, 1], 71] ,\n",
      "\t's14': [[3, 2], 98] ,\n",
      "\t's15': [[3, 3], 79] ,\n",
      "\t's16': [[3, 4], 33] ,\n",
      "\t's17': [[3, 5], 5] ,\n",
      "\t's18': [[3, 6], 38] ,\n",
      "\t's19': [[4, 1], 28] ,\n",
      "\t's20': [[4, 2], 6] ,\n",
      "\t's21': [[4, 3], 50] ,\n",
      "\t's22': [[4, 4], 85] ,\n",
      "\t's23': [[4, 5], 1] ,\n",
      "\t's24': [[4, 6], 60] ,\n",
      "\t's25': [[5, 1], 50] ,\n",
      "\t's26': [[5, 2], 77] ,\n",
      "\t's27': [[5, 3], 68] ,\n",
      "\t's28': [[5, 4], 5] ,\n",
      "\t's29': [[5, 5], 78] ,\n",
      "\t's30': [[5, 6], 15] ,\n",
      "\t's31': [[6, 1], 75] ,\n",
      "\t's32': [[6, 2], 91] ,\n",
      "\t's33': [[6, 3], 76] ,\n",
      "\t's34': [[6, 4], 54] ,\n",
      "\t's35': [[6, 5], 41] ,\n",
      "\t's36': [[6, 6], 29] ,\n"
     ]
    }
   ],
   "source": [
    "import random\n",
    "\n",
    "# Crear un diccionario vacío\n",
    "sensores = {}\n",
    "\n",
    "# Rango de sensores de 's1' a 's36'\n",
    "for n in range(1, 37):\n",
    "    # Calcular filas y columnas basados en el número de sensor\n",
    "    fila = (n - 1) // 6 + 1  # Calcula la fila (1 a 6)\n",
    "    columna = (n - 1) % 6 + 1  # Calcula la columna (1 a 6)\n",
    "    \n",
    "    # Generar un valor aleatorio para la temperatura\n",
    "    temperatura = random.randint(1, 120)\n",
    "    \n",
    "    # Crear la clave y el valor para el sensor actual\n",
    "    clave = f's{n}'\n",
    "    valor = [[fila, columna], temperatura]\n",
    "    \n",
    "    # Agregar el sensor al diccionario\n",
    "    sensores[clave] = valor\n",
    "\n",
    "# Imprimir el diccionario resultante\n",
    "for clave, valor in sensores.items():\n",
    "    print(f\"\\t'{clave}': {valor} ,\")\n"
   ]
  },
  {
   "cell_type": "code",
   "execution_count": 40,
   "metadata": {},
   "outputs": [
    {
     "name": "stdout",
     "output_type": "stream",
     "text": [
      "{'s1': [1, 1, 103], 's3': [1, 3, 113], 's8': [2, 2, None], 's12': [2, 6, 103]}\n"
     ]
    }
   ],
   "source": [
    "sensores_muerte = {\n",
    "\t's1': [1, 1, 103] ,\n",
    "\t's2': [1, 2, 56] ,\n",
    "\t's3': [1, 3, 113] ,\n",
    "\t's4': [1, 4, 47] ,\n",
    "\t's5': [1, 5, 47] ,\n",
    "\t's6': [1, 6, 93] ,\n",
    "\t's7': [2, 1, 65] ,\n",
    "\t's8': [2, 2, None] ,\n",
    "\t's9': [2, 3, 55] ,\n",
    "\t's10': [2, 4, 68] ,\n",
    "\t's11': [2, 5, 93] ,\n",
    "\t's12': [2, 6, 103] ,\n",
    "\t's13': [3, 1, 71] ,\n",
    "\t's14': [3, 2, 98] ,\n",
    "\t's15': [3, 3, 79] ,\n",
    "\t's16': [3, 4, 33] ,\n",
    "\t's17': [3, 5, 5] ,\n",
    "\t's18': [3, 6, 38] ,\n",
    "\t's19': [4, 1, 28] ,\n",
    "\t's20': [4, 2, 6] ,\n",
    "\t's21': [4, 3, 50] ,\n",
    "\t's22': [4, 4, 85] ,\n",
    "\t's23': [4, 5, 1] ,\n",
    "\t's24': [4, 6, 60] ,\n",
    "\t's25': [5, 1, 50] ,\n",
    "\t's26': [5, 2, 77] ,\n",
    "\t's27': [5, 3, 68] ,\n",
    "\t's28': [5, 4, 5] ,\n",
    "\t's29': [5, 5, 78] ,\n",
    "\t's30': [5, 6, 15] ,\n",
    "\t's31': [6, 1, 75] ,\n",
    "\t's32': [6, 2, 91] ,\n",
    "\t's33': [6, 3, 76] ,\n",
    "\t's34': [6, 4, 54] ,\n",
    "\t's35': [6, 5, 41] ,\n",
    "\t's36': [6, 6, 29] \n",
    "}\n",
    "\n",
    "#Para cada sensor se revisaque \n",
    "sensores_muertos = {\n",
    "    clave: valor for clave, valor in sensores_muerte.items() if (valor[2] is None or valor[2] >= 100)\n",
    "}\n",
    "\n",
    "print(sensores_muertos)\n",
    "\n",
    "\n"
   ]
  },
  {
   "cell_type": "code",
   "execution_count": 29,
   "metadata": {},
   "outputs": [
    {
     "name": "stdout",
     "output_type": "stream",
     "text": [
      "\tCasilla (1 , 2) Valor de la casilla seleccionada: 5\n",
      "Inc vecinos: (0, 3), Valor: 1\n",
      "Inc vecinos: (2, 1), Valor: 1\n",
      "\n",
      "\tTENEMOS UN INCENDIO EN (1 , 2 ) , sus orignes de fuego vecinos son:\n",
      "\t\tsensor_0,3 en [0, 3]\n",
      "\t\tsensor_2,1 en [2, 1]\n"
     ]
    }
   ],
   "source": [
    "# Supongamos que tienes una matriz cuadrada de 6x6 llamada \"matriz\" con valores numéricos\n",
    "matriz = [\n",
    "    [0, 0, 0, 1, 0, 0],\n",
    "    [0, 0, 5, 0, 0, 0],\n",
    "    [0, 1, 0, 0, 0, 0],\n",
    "    [0, 0, 0, 0, 0, 0],\n",
    "    [0, 0, 0, 0, 0, 0],\n",
    "    [0, 0, 0, 0, 0, 0]\n",
    "]\n",
    "\n",
    "# Coordenadas de la casilla que quieres verificar (por ejemplo, fila 1, columna 2)\n",
    "fila = 1\n",
    "columna = 2\n",
    "print(f\"\\tCasilla ({fila} , {columna}) Valor de la casilla seleccionada: {matriz[fila][columna]}\")\n",
    "\n",
    "\n",
    "# Verificar si la casilla tiene un valor no nulo\n",
    "if matriz[fila][columna] != 0:\n",
    "    # Casilla no nula, verificar casillas vecinas\n",
    "    vecinas = [(fila - 1, columna)      , (fila + 1 , columna), \n",
    "               (fila    , columna - 1)  , (fila     , columna + 1),\n",
    "               (fila-1  , columna - 1)  , (fila-1   , columna + 1),\n",
    "               (fila+1  , columna - 1)  , (fila+1   , columna + 1),\n",
    "            ]\n",
    "    incendios_vecinos = {}\n",
    "    for fila_vecina, columna_vecina in vecinas:\n",
    "        #Se verifica que los vecinos sean validos (esten dentro de nuestra matriz)\n",
    "        if 0 <= fila_vecina < 6 and 0 <= columna_vecina < 6:\n",
    "            valor_vecina = matriz[fila_vecina][columna_vecina]\n",
    "            if(valor_vecina != 0):            \n",
    "                incendios_vecinos[f\"sensor_{fila_vecina},{columna_vecina}\"] = [fila_vecina, columna_vecina ]\n",
    "                print(f\"Inc vecinos: ({fila_vecina}, {columna_vecina}), Valor: {valor_vecina}\")\n",
    "        \n",
    "    if(len(incendios_vecinos) >= 2): #Contando el incendio central, tenemos 3 incendios juntos\n",
    "        print(f\"\\n\\tTENEMOS UN INCENDIO EN ({fila} , {columna} ) , sus orignes de fuego vecinos son:\")\n",
    "        for sensor, coordenadas in incendios_vecinos.items():\n",
    "            print(f\"\\t\\t{sensor} en {coordenadas}\")\n",
    "else:\n",
    "    print(f\"La casilla ({fila},{columna}) tiene un valor nulo.\")\n"
   ]
  },
  {
   "cell_type": "code",
   "execution_count": 11,
   "metadata": {},
   "outputs": [
    {
     "name": "stdout",
     "output_type": "stream",
     "text": [
      "\n",
      "\tTENEMOS UN INCENDIO EN (1, 2) , sus orígenes de fuego vecinos son:\n",
      "\t\tsensor_0,3 en [0, 3]\n",
      "\t\tsensor_2,1 en [2, 1]\n",
      "\n",
      "\tTENEMOS UN INCENDIO EN (4, 4) , sus orígenes de fuego vecinos son:\n",
      "\t\tsensor_5,4 en [5, 4]\n",
      "\t\tsensor_3,3 en [3, 3]\n"
     ]
    }
   ],
   "source": [
    "# Supongamos que tienes una matriz cuadrada de 6x6 llamada \"matriz\" con valores numéricos\n",
    "matriz = [\n",
    "    [0, 0, 0, 1, 0, 0],\n",
    "    [0, 0, 5, 0, 0, 0],\n",
    "    [0, 1, 0, 0, 0, 0],\n",
    "    [0, 0, 0, 4, 0, 0],\n",
    "    [0, 0, 0, 0, 6, 0],\n",
    "    [0, 0, 0, 0, 2, 0]\n",
    "]\n",
    "\n",
    "# Recorre todas las filas y columnas de la matriz\n",
    "for fila in range(len(matriz)):\n",
    "    for columna in range(len(matriz[0])):\n",
    "        #print(f\"\\nCasilla ({fila}, {columna}) Valor de la casilla seleccionada: {matriz[fila][columna]}\")\n",
    "\n",
    "        # Verificar si la casilla tiene un valor no nulo\n",
    "        if matriz[fila][columna] != 0:\n",
    "            # Casilla no nula, verificar casillas vecinas\n",
    "            vecinas = [(fila - 1, columna), (fila + 1, columna),\n",
    "                       (fila, columna - 1), (fila, columna + 1),\n",
    "                       (fila - 1, columna - 1), (fila - 1, columna + 1),\n",
    "                       (fila + 1, columna - 1), (fila + 1, columna + 1),\n",
    "            ]\n",
    "            incendios_vecinos = {}\n",
    "            for fila_vecina, columna_vecina in vecinas:\n",
    "                # Se verifica que los vecinos sean válidos (estén dentro de nuestra matriz)\n",
    "                if 0 <= fila_vecina < 6 and 0 <= columna_vecina < 6:\n",
    "                    valor_vecina = matriz[fila_vecina][columna_vecina]\n",
    "                    if valor_vecina != 0:\n",
    "                        incendios_vecinos[f\"sensor_{fila_vecina},{columna_vecina}\"] = [fila_vecina, columna_vecina]\n",
    "                        #print(f\"Inc vecinos: ({fila_vecina}, {columna_vecina}), Valor: {valor_vecina}\")\n",
    "\n",
    "            if len(incendios_vecinos) >= 2:  # Contando el incendio central, tenemos 3 incendios juntos\n",
    "                print(f\"\\n\\tTENEMOS UN INCENDIO EN ({fila}, {columna}) , sus orígenes de fuego vecinos son:\")\n",
    "                for sensor, coordenadas in incendios_vecinos.items():\n",
    "                    print(f\"\\t\\t{sensor} en {coordenadas}\")\n",
    "        else:\n",
    "            pass \n",
    "            #print(f\"La casilla ({fila}, {columna}) tiene un valor nulo.\")\n"
   ]
  },
  {
   "cell_type": "code",
   "execution_count": 16,
   "metadata": {},
   "outputs": [
    {
     "name": "stdout",
     "output_type": "stream",
     "text": [
      "{'clave0': 0, 'clave1': 10, 'clave2': 20, 'clave3': 30, 'clave4': 40}\n"
     ]
    }
   ],
   "source": [
    "mi_diccionario = {}  # Crea un diccionario vacío\n",
    "\n",
    "# Supongamos que tienes un bucle que genera claves y valores\n",
    "for i in range(5):\n",
    "    clave = f'clave{i}'\n",
    "    valor = i * 10\n",
    "    \n",
    "    # Agrega el par clave-valor al diccionario\n",
    "    mi_diccionario[clave] = valor\n",
    "\n",
    "# Imprime el diccionario resultante\n",
    "print(mi_diccionario)"
   ]
  },
  {
   "cell_type": "code",
   "execution_count": 17,
   "metadata": {},
   "outputs": [
    {
     "name": "stdout",
     "output_type": "stream",
     "text": [
      "Clave: clave1, Valor: valor1\n",
      "Clave: clave2, Valor: valor2\n",
      "Clave: clave3, Valor: valor3\n"
     ]
    }
   ],
   "source": [
    "mi_diccionario = {'clave1': 'valor1', 'clave2': 'valor2', 'clave3': 'valor3'}\n",
    "\n",
    "# Itera sobre los elementos (claves y valores) del diccionario\n",
    "for clave, valor in mi_diccionario.items():\n",
    "    print(f\"Clave: {clave}, Valor: {valor}\")\n"
   ]
  },
  {
   "cell_type": "code",
   "execution_count": 3,
   "metadata": {},
   "outputs": [
    {
     "name": "stdout",
     "output_type": "stream",
     "text": [
      "1\t2\t3\t4\t5\t6\t\n",
      "7\t8\t9\t10\t11\t12\t\n",
      "13\t14\t15\t16\t17\t18\t\n",
      "19\t20\t21\t22\t23\t24\t\n",
      "25\t26\t27\t28\t29\t30\t\n",
      "31\t32\t33\t34\t35\t36\t\n",
      "6\n"
     ]
    }
   ],
   "source": [
    "# Supongamos que tienes una matriz cuadrada de 6x6 llamada \"matriz\" con valores numéricos\n",
    "matriz = [\n",
    "    [1, 2, 3, 4, 5, 6],\n",
    "    [7, 8, 9, 10, 11, 12],\n",
    "    [13, 14, 15, 16, 17, 18],\n",
    "    [19, 20, 21, 22, 23, 24],\n",
    "    [25, 26, 27, 28, 29, 30],\n",
    "    [31, 32, 33, 34, 35, 36]\n",
    "]\n",
    "\n",
    "# Recorre todos los elementos de la matriz\n",
    "for fila in matriz:\n",
    "    for elemento in fila:\n",
    "        print(elemento, end='\\t')  # Imprime el elemento seguido de una tabulación\n",
    "    print()  # Salto de línea después de cada fila\n",
    "\n",
    "print(len(matriz))"
   ]
  }
 ],
 "metadata": {
  "kernelspec": {
   "display_name": "Python 3",
   "language": "python",
   "name": "python3"
  },
  "language_info": {
   "codemirror_mode": {
    "name": "ipython",
    "version": 3
   },
   "file_extension": ".py",
   "mimetype": "text/x-python",
   "name": "python",
   "nbconvert_exporter": "python",
   "pygments_lexer": "ipython3",
   "version": "3.10.4"
  }
 },
 "nbformat": 4,
 "nbformat_minor": 2
}
