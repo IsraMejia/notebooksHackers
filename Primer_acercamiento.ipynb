{
  "cells": [
    {
      "cell_type": "markdown",
      "metadata": {
        "id": "YVKb1nFm0ema"
      },
      "source": [
        "Para generar api key de consulta:\n",
        "\n",
        "* https://firms.modaps.eosdis.nasa.gov/api/map_key"
      ]
    },
    {
      "cell_type": "code",
      "execution_count": 1,
      "metadata": {
        "colab": {
          "base_uri": "https://localhost:8080/",
          "height": 86
        },
        "id": "fENitu9LzNia",
        "outputId": "3bc79283-37a6-4364-d75e-602698fe7f18"
      },
      "outputs": [
        {
          "data": {
            "text/plain": [
              "transaction_limit             1000\n",
              "current_transactions             0\n",
              "transaction_interval    10 minutes\n",
              "dtype: object"
            ]
          },
          "metadata": {},
          "output_type": "display_data"
        }
      ],
      "source": [
        "# Let's set your map key that was emailed to you. It should look something like 'abcdef1234567890abcdef1234567890'\n",
        "MAP_KEY = '6b5da64adc73e157f74cc93724bda15b'\n",
        "#MAP_KEY = 'abcdef1234567890abcdef1234567890'\n",
        "\n",
        "# now let's check how many transactions we have\n",
        "import pandas as pd\n",
        "url = 'https://firms.modaps.eosdis.nasa.gov/mapserver/mapkey_status/?MAP_KEY=' + MAP_KEY\n",
        "try:\n",
        "  df = pd.read_json(url,  typ='series')\n",
        "  display(df)\n",
        "except:\n",
        "  # possible error, wrong MAP_KEY value, check for extra quotes, missing letters\n",
        "  print (\"There is an issue with the query. \\nTry in your browser: %s\" % url)"
      ]
    },
    {
      "cell_type": "code",
      "execution_count": 2,
      "metadata": {
        "colab": {
          "base_uri": "https://localhost:8080/"
        },
        "id": "PjdnWD3uw1I9",
        "outputId": "df2e5a57-109f-47dd-88c5-9b21b3779d52"
      },
      "outputs": [
        {
          "name": "stdout",
          "output_type": "stream",
          "text": [
            "Our current transaction count is 0\n"
          ]
        }
      ],
      "source": [
        "# let's create a simple function that tells us how many transactions we have used.\n",
        "# We will use this in later examples\n",
        "\n",
        "def get_transaction_count() :\n",
        "  count = 0\n",
        "  try:\n",
        "    df = pd.read_json(url,  typ='series')\n",
        "    count = df['current_transactions']\n",
        "  except:\n",
        "    print (\"Error in our call.\")\n",
        "  return count\n",
        "\n",
        "tcount = get_transaction_count()\n",
        "print ('Our current transaction count is %i' % tcount)"
      ]
    },
    {
      "cell_type": "code",
      "execution_count": 3,
      "metadata": {
        "colab": {
          "base_uri": "https://localhost:8080/",
          "height": 293
        },
        "id": "fy5FY3XKw9mX",
        "outputId": "553c6a14-22f0-4a5a-a112-7028083883d2"
      },
      "outputs": [
        {
          "data": {
            "text/html": [
              "<div>\n",
              "<style scoped>\n",
              "    .dataframe tbody tr th:only-of-type {\n",
              "        vertical-align: middle;\n",
              "    }\n",
              "\n",
              "    .dataframe tbody tr th {\n",
              "        vertical-align: top;\n",
              "    }\n",
              "\n",
              "    .dataframe thead th {\n",
              "        text-align: right;\n",
              "    }\n",
              "</style>\n",
              "<table border=\"1\" class=\"dataframe\">\n",
              "  <thead>\n",
              "    <tr style=\"text-align: right;\">\n",
              "      <th></th>\n",
              "      <th>latitude</th>\n",
              "      <th>longitude</th>\n",
              "      <th>bright_ti4</th>\n",
              "      <th>scan</th>\n",
              "      <th>track</th>\n",
              "      <th>acq_date</th>\n",
              "      <th>acq_time</th>\n",
              "      <th>satellite</th>\n",
              "      <th>instrument</th>\n",
              "      <th>confidence</th>\n",
              "      <th>version</th>\n",
              "      <th>bright_ti5</th>\n",
              "      <th>frp</th>\n",
              "      <th>daynight</th>\n",
              "    </tr>\n",
              "  </thead>\n",
              "  <tbody>\n",
              "    <tr>\n",
              "      <th>0</th>\n",
              "      <td>66.19928</td>\n",
              "      <td>70.98785</td>\n",
              "      <td>339.36</td>\n",
              "      <td>0.51</td>\n",
              "      <td>0.66</td>\n",
              "      <td>2023-10-06</td>\n",
              "      <td>20</td>\n",
              "      <td>1</td>\n",
              "      <td>VIIRS</td>\n",
              "      <td>n</td>\n",
              "      <td>2.0NRT</td>\n",
              "      <td>275.20</td>\n",
              "      <td>3.96</td>\n",
              "      <td>N</td>\n",
              "    </tr>\n",
              "    <tr>\n",
              "      <th>1</th>\n",
              "      <td>61.73565</td>\n",
              "      <td>66.44294</td>\n",
              "      <td>306.66</td>\n",
              "      <td>0.75</td>\n",
              "      <td>0.77</td>\n",
              "      <td>2023-10-06</td>\n",
              "      <td>22</td>\n",
              "      <td>1</td>\n",
              "      <td>VIIRS</td>\n",
              "      <td>n</td>\n",
              "      <td>2.0NRT</td>\n",
              "      <td>274.70</td>\n",
              "      <td>1.59</td>\n",
              "      <td>N</td>\n",
              "    </tr>\n",
              "    <tr>\n",
              "      <th>2</th>\n",
              "      <td>61.74938</td>\n",
              "      <td>66.95711</td>\n",
              "      <td>312.79</td>\n",
              "      <td>0.77</td>\n",
              "      <td>0.77</td>\n",
              "      <td>2023-10-06</td>\n",
              "      <td>22</td>\n",
              "      <td>1</td>\n",
              "      <td>VIIRS</td>\n",
              "      <td>n</td>\n",
              "      <td>2.0NRT</td>\n",
              "      <td>274.68</td>\n",
              "      <td>2.70</td>\n",
              "      <td>N</td>\n",
              "    </tr>\n",
              "    <tr>\n",
              "      <th>3</th>\n",
              "      <td>61.75479</td>\n",
              "      <td>66.94773</td>\n",
              "      <td>304.34</td>\n",
              "      <td>0.77</td>\n",
              "      <td>0.77</td>\n",
              "      <td>2023-10-06</td>\n",
              "      <td>22</td>\n",
              "      <td>1</td>\n",
              "      <td>VIIRS</td>\n",
              "      <td>n</td>\n",
              "      <td>2.0NRT</td>\n",
              "      <td>275.40</td>\n",
              "      <td>2.70</td>\n",
              "      <td>N</td>\n",
              "    </tr>\n",
              "    <tr>\n",
              "      <th>4</th>\n",
              "      <td>67.83894</td>\n",
              "      <td>58.93101</td>\n",
              "      <td>324.31</td>\n",
              "      <td>0.51</td>\n",
              "      <td>0.49</td>\n",
              "      <td>2023-10-06</td>\n",
              "      <td>22</td>\n",
              "      <td>1</td>\n",
              "      <td>VIIRS</td>\n",
              "      <td>n</td>\n",
              "      <td>2.0NRT</td>\n",
              "      <td>272.22</td>\n",
              "      <td>2.96</td>\n",
              "      <td>N</td>\n",
              "    </tr>\n",
              "  </tbody>\n",
              "</table>\n",
              "</div>"
            ],
            "text/plain": [
              "   latitude  longitude  bright_ti4  scan  track    acq_date  acq_time  \\\n",
              "0  66.19928   70.98785      339.36  0.51   0.66  2023-10-06        20   \n",
              "1  61.73565   66.44294      306.66  0.75   0.77  2023-10-06        22   \n",
              "2  61.74938   66.95711      312.79  0.77   0.77  2023-10-06        22   \n",
              "3  61.75479   66.94773      304.34  0.77   0.77  2023-10-06        22   \n",
              "4  67.83894   58.93101      324.31  0.51   0.49  2023-10-06        22   \n",
              "\n",
              "   satellite instrument confidence version  bright_ti5   frp daynight  \n",
              "0          1      VIIRS          n  2.0NRT      275.20  3.96        N  \n",
              "1          1      VIIRS          n  2.0NRT      274.70  1.59        N  \n",
              "2          1      VIIRS          n  2.0NRT      274.68  2.70        N  \n",
              "3          1      VIIRS          n  2.0NRT      275.40  2.70        N  \n",
              "4          1      VIIRS          n  2.0NRT      272.22  2.96        N  "
            ]
          },
          "execution_count": 3,
          "metadata": {},
          "output_type": "execute_result"
        }
      ],
      "source": [
        "# in this example let's look at VIIRS NOAA-20, entire world and the most recent day\n",
        "area_url = 'https://firms.modaps.eosdis.nasa.gov/api/area/csv/' + '440ffadc4c4a4e625b4db949ea24118a' + '/VIIRS_NOAA20_NRT/world/2'\n",
        "start_count = get_transaction_count()\n",
        "df_area = pd.read_csv(area_url)\n",
        "\n",
        "df_area.to_csv(\"datos.csv\")\n",
        "df_area.head()\n",
        "\n",
        "# end_count = get_transaction_count()\n",
        "# print ('We used %i transactions.' % (end_count-start_count))df_area.head()\n"
      ]
    },
    {
      "cell_type": "code",
      "execution_count": null,
      "metadata": {
        "id": "-sIIo27WxC3Y"
      },
      "outputs": [],
      "source": [
        "area_url = 'https://firms.modaps.eosdis.nasa.gov/api/area/csv/440ffadc4c4a4e625b4db949ea24118a/VIIRS_NOAA20_NRT/world/1'"
      ]
    }
  ],
  "metadata": {
    "colab": {
      "provenance": []
    },
    "kernelspec": {
      "display_name": "Python 3",
      "name": "python3"
    },
    "language_info": {
      "codemirror_mode": {
        "name": "ipython",
        "version": 3
      },
      "file_extension": ".py",
      "mimetype": "text/x-python",
      "name": "python",
      "nbconvert_exporter": "python",
      "pygments_lexer": "ipython3",
      "version": "3.10.4"
    }
  },
  "nbformat": 4,
  "nbformat_minor": 0
}
